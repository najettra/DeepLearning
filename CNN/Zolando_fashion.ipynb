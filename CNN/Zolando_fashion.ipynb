{
 "cells": [
  {
   "cell_type": "code",
   "execution_count": 1,
   "metadata": {
    "colab": {},
    "colab_type": "code",
    "id": "C1BkRgz5307b"
   },
   "outputs": [
    {
     "name": "stderr",
     "output_type": "stream",
     "text": [
      "Using TensorFlow backend.\n"
     ]
    }
   ],
   "source": [
    "import os\n",
    "import keras as ks\n",
    "from keras.models import Sequential\n",
    "from keras.layers import Input, Dense, Activation, Flatten, Conv2D, Convolution2D, MaxPooling2D, Dropout\n",
    "from keras.utils import to_categorical\n",
    "from keras.optimizers import SGD, Adam, RMSprop\n",
    "import matplotlib.pyplot as plt"
   ]
  },
  {
   "cell_type": "code",
   "execution_count": 2,
   "metadata": {
    "colab": {
     "base_uri": "https://localhost:8080/",
     "height": 34
    },
    "colab_type": "code",
    "id": "sxJkcaJ96doy",
    "outputId": "4a167ba0-190a-45f6-ae2c-a37d910f0f14"
   },
   "outputs": [
    {
     "ename": "SystemError",
     "evalue": "GPU device not found",
     "output_type": "error",
     "traceback": [
      "\u001b[0;31m---------------------------------------------------------------------------\u001b[0m",
      "\u001b[0;31mSystemError\u001b[0m                               Traceback (most recent call last)",
      "\u001b[0;32m<ipython-input-2-d1680108c58e>\u001b[0m in \u001b[0;36m<module>\u001b[0;34m()\u001b[0m\n\u001b[1;32m      2\u001b[0m \u001b[0mdevice_name\u001b[0m \u001b[0;34m=\u001b[0m \u001b[0mtf\u001b[0m\u001b[0;34m.\u001b[0m\u001b[0mtest\u001b[0m\u001b[0;34m.\u001b[0m\u001b[0mgpu_device_name\u001b[0m\u001b[0;34m(\u001b[0m\u001b[0;34m)\u001b[0m\u001b[0;34m\u001b[0m\u001b[0m\n\u001b[1;32m      3\u001b[0m \u001b[0;32mif\u001b[0m \u001b[0mdevice_name\u001b[0m \u001b[0;34m!=\u001b[0m \u001b[0;34m'/device:GPU:0'\u001b[0m\u001b[0;34m:\u001b[0m\u001b[0;34m\u001b[0m\u001b[0m\n\u001b[0;32m----> 4\u001b[0;31m   \u001b[0;32mraise\u001b[0m \u001b[0mSystemError\u001b[0m\u001b[0;34m(\u001b[0m\u001b[0;34m'GPU device not found'\u001b[0m\u001b[0;34m)\u001b[0m\u001b[0;34m\u001b[0m\u001b[0m\n\u001b[0m\u001b[1;32m      5\u001b[0m \u001b[0mprint\u001b[0m\u001b[0;34m(\u001b[0m\u001b[0;34m'Found GPU at: {}'\u001b[0m\u001b[0;34m.\u001b[0m\u001b[0mformat\u001b[0m\u001b[0;34m(\u001b[0m\u001b[0mdevice_name\u001b[0m\u001b[0;34m)\u001b[0m\u001b[0;34m)\u001b[0m\u001b[0;34m\u001b[0m\u001b[0m\n",
      "\u001b[0;31mSystemError\u001b[0m: GPU device not found"
     ]
    }
   ],
   "source": [
    "import tensorflow as tf\n",
    "device_name = tf.test.gpu_device_name()\n",
    "if device_name != '/device:GPU:0':\n",
    "  raise SystemError('GPU device not found')\n",
    "print('Found GPU at: {}'.format(device_name))"
   ]
  },
  {
   "cell_type": "code",
   "execution_count": 2,
   "metadata": {
    "colab": {},
    "colab_type": "code",
    "id": "_JSSg7pW33VO"
   },
   "outputs": [
    {
     "name": "stdout",
     "output_type": "stream",
     "text": [
      "Downloading data from http://fashion-mnist.s3-website.eu-central-1.amazonaws.com/train-labels-idx1-ubyte.gz\n",
      "32768/29515 [=================================] - 0s 5us/step\n",
      "Downloading data from http://fashion-mnist.s3-website.eu-central-1.amazonaws.com/train-images-idx3-ubyte.gz\n",
      "26427392/26421880 [==============================] - 68s 3us/step\n",
      "Downloading data from http://fashion-mnist.s3-website.eu-central-1.amazonaws.com/t10k-labels-idx1-ubyte.gz\n",
      "8192/5148 [===============================================] - 0s 0us/step\n",
      "Downloading data from http://fashion-mnist.s3-website.eu-central-1.amazonaws.com/t10k-images-idx3-ubyte.gz\n",
      "4423680/4422102 [==============================] - 11s 2us/step\n"
     ]
    }
   ],
   "source": [
    "from keras.datasets import fashion_mnist as mnist\n",
    "(X_train, y_train), (X_test, y_test) = mnist.load_data()"
   ]
  },
  {
   "cell_type": "code",
   "execution_count": 4,
   "metadata": {},
   "outputs": [],
   "source": [
    "train = X_train.copy()\n",
    "test = X_test.copy()"
   ]
  },
  {
   "cell_type": "code",
   "execution_count": 5,
   "metadata": {
    "colab": {
     "base_uri": "https://localhost:8080/",
     "height": 34
    },
    "colab_type": "code",
    "id": "a95R88VfEeni",
    "outputId": "01092047-d6fd-4fb0-fd47-5f70e3c921e3"
   },
   "outputs": [
    {
     "data": {
      "text/plain": [
       "((60000, 28, 28), (60000,))"
      ]
     },
     "execution_count": 5,
     "metadata": {},
     "output_type": "execute_result"
    }
   ],
   "source": [
    "X_train.shape, y_train.shape"
   ]
  },
  {
   "cell_type": "code",
   "execution_count": 6,
   "metadata": {},
   "outputs": [
    {
     "data": {
      "text/plain": [
       "numpy.ndarray"
      ]
     },
     "execution_count": 6,
     "metadata": {},
     "output_type": "execute_result"
    }
   ],
   "source": [
    "type(X_train)"
   ]
  },
  {
   "cell_type": "code",
   "execution_count": 7,
   "metadata": {
    "colab": {},
    "colab_type": "code",
    "id": "O4IRgGkoGDpV"
   },
   "outputs": [],
   "source": [
    "X_train = X_train.reshape(-1,28,28,1)\n",
    "X_test = X_test.reshape(-1,28,28,1)"
   ]
  },
  {
   "cell_type": "code",
   "execution_count": 8,
   "metadata": {
    "colab": {},
    "colab_type": "code",
    "id": "d0llMrNyIth9"
   },
   "outputs": [],
   "source": [
    "X_train = X_train.astype('float32')\n",
    "X_test = X_test.astype('float32')\n",
    "X_train /= 255\n",
    "X_test /= 255"
   ]
  },
  {
   "cell_type": "code",
   "execution_count": 9,
   "metadata": {
    "colab": {},
    "colab_type": "code",
    "id": "IL6cgUazMtnL"
   },
   "outputs": [],
   "source": [
    "y_train = to_categorical(y_train, 10)\n",
    "y_test = to_categorical(y_test, 10)"
   ]
  },
  {
   "cell_type": "code",
   "execution_count": 10,
   "metadata": {
    "colab": {
     "base_uri": "https://localhost:8080/",
     "height": 34
    },
    "colab_type": "code",
    "id": "PXWltfj0M4l_",
    "outputId": "7966f630-4a57-4e2a-a3e3-cc8cb0b48545"
   },
   "outputs": [
    {
     "data": {
      "text/plain": [
       "(60000, 10)"
      ]
     },
     "execution_count": 10,
     "metadata": {},
     "output_type": "execute_result"
    }
   ],
   "source": [
    "y_train.shape"
   ]
  },
  {
   "cell_type": "markdown",
   "metadata": {
    "colab_type": "text",
    "id": "W69_b2tRuze4"
   },
   "source": [
    "## Optimizer"
   ]
  },
  {
   "cell_type": "code",
   "execution_count": 9,
   "metadata": {
    "colab": {},
    "colab_type": "code",
    "id": "jdORBBL0uymQ"
   },
   "outputs": [],
   "source": [
    "optimizer_Adam = Adam(lr=0.003, beta_1=0.9, beta_2=0.999, epsilon=None, decay=0.0, amsgrad=False)\n",
    "optimizer_SGD = SGD(lr=1e-4, decay=0.0005, momentum=0.9)\n",
    "optimizer_RMS = RMSprop(lr=0.001, rho=0.7, epsilon=0.003, decay=0.0)"
   ]
  },
  {
   "cell_type": "code",
   "execution_count": 11,
   "metadata": {
    "colab": {
     "base_uri": "https://localhost:8080/",
     "height": 71
    },
    "colab_type": "code",
    "id": "NRo9aX4X5kw0",
    "outputId": "e6b656c5-eb1e-46fc-f785-212ee1f48f7c"
   },
   "outputs": [
    {
     "name": "stderr",
     "output_type": "stream",
     "text": [
      "/home/najet/.local/lib/python3.5/site-packages/ipykernel_launcher.py:2: UserWarning: Update your `Conv2D` call to the Keras 2 API: `Conv2D(25, (3, 3), activation=\"relu\", input_shape=(28, 28, 1..., data_format=\"channels_last\")`\n",
      "  \n"
     ]
    }
   ],
   "source": [
    "model = Sequential()\n",
    "model.add(Conv2D(25,(3,3), activation='relu', dim_ordering='tf', input_shape=(28,28,1)))\n",
    "model.add(MaxPooling2D((2,2)))\n",
    "model.add(Conv2D(50,(3,3), activation='relu'))\n",
    "model.add(MaxPooling2D((2,2)))\n",
    "model.add(Conv2D(100,(3,3), activation='relu'))\n",
    "model.add(MaxPooling2D((2,2)))\n",
    "model.add(Flatten())\n",
    "model.add(Dense(10, activation='softmax'))"
   ]
  },
  {
   "cell_type": "code",
   "execution_count": 12,
   "metadata": {
    "colab": {},
    "colab_type": "code",
    "id": "Y8VEmAYb5sfB"
   },
   "outputs": [],
   "source": [
    "model.compile(optimizer= 'rmsprop',\n",
    "              loss='categorical_crossentropy',\n",
    "              metrics=['accuracy'])"
   ]
  },
  {
   "cell_type": "code",
   "execution_count": 12,
   "metadata": {
    "colab": {
     "base_uri": "https://localhost:8080/",
     "height": 425
    },
    "colab_type": "code",
    "id": "Nj-_tmkvDpdG",
    "outputId": "a0e28de3-fc1f-48ba-b4ad-b2beba5d7fbf"
   },
   "outputs": [
    {
     "name": "stdout",
     "output_type": "stream",
     "text": [
      "_________________________________________________________________\n",
      "Layer (type)                 Output Shape              Param #   \n",
      "=================================================================\n",
      "conv2d_1 (Conv2D)            (None, 26, 26, 25)        250       \n",
      "_________________________________________________________________\n",
      "max_pooling2d_1 (MaxPooling2 (None, 13, 13, 25)        0         \n",
      "_________________________________________________________________\n",
      "conv2d_2 (Conv2D)            (None, 11, 11, 50)        11300     \n",
      "_________________________________________________________________\n",
      "max_pooling2d_2 (MaxPooling2 (None, 5, 5, 50)          0         \n",
      "_________________________________________________________________\n",
      "conv2d_3 (Conv2D)            (None, 3, 3, 100)         45100     \n",
      "_________________________________________________________________\n",
      "max_pooling2d_3 (MaxPooling2 (None, 1, 1, 100)         0         \n",
      "_________________________________________________________________\n",
      "flatten_1 (Flatten)          (None, 100)               0         \n",
      "_________________________________________________________________\n",
      "dense_1 (Dense)              (None, 10)                1010      \n",
      "=================================================================\n",
      "Total params: 57,660\n",
      "Trainable params: 57,660\n",
      "Non-trainable params: 0\n",
      "_________________________________________________________________\n",
      "None\n"
     ]
    }
   ],
   "source": [
    "print(model.summary())"
   ]
  },
  {
   "cell_type": "code",
   "execution_count": 13,
   "metadata": {
    "colab": {
     "base_uri": "https://localhost:8080/",
     "height": 1054
    },
    "colab_type": "code",
    "id": "0-YNFIYSD7fs",
    "outputId": "8e51628d-dafd-40ba-ef2c-c1fbf02e3c38"
   },
   "outputs": [
    {
     "name": "stdout",
     "output_type": "stream",
     "text": [
      "Train on 60000 samples, validate on 10000 samples\n",
      "Epoch 1/30\n",
      "60000/60000 [==============================] - 58s 975us/step - loss: 0.8041 - acc: 0.7153 - val_loss: 0.6802 - val_acc: 0.7320\n",
      "Epoch 2/30\n",
      "60000/60000 [==============================] - 67s 1ms/step - loss: 0.5383 - acc: 0.8050 - val_loss: 0.5191 - val_acc: 0.8134\n",
      "Epoch 3/30\n",
      "60000/60000 [==============================] - 66s 1ms/step - loss: 0.4661 - acc: 0.8309 - val_loss: 0.5224 - val_acc: 0.8009\n",
      "Epoch 4/30\n",
      "60000/60000 [==============================] - 62s 1ms/step - loss: 0.4243 - acc: 0.8444 - val_loss: 0.4608 - val_acc: 0.8274\n",
      "Epoch 5/30\n",
      "60000/60000 [==============================] - 62s 1ms/step - loss: 0.3933 - acc: 0.8559 - val_loss: 0.4177 - val_acc: 0.8486\n",
      "Epoch 6/30\n",
      "60000/60000 [==============================] - 76s 1ms/step - loss: 0.3697 - acc: 0.8641 - val_loss: 0.4106 - val_acc: 0.8485\n",
      "Epoch 7/30\n",
      "60000/60000 [==============================] - 68s 1ms/step - loss: 0.3506 - acc: 0.8703 - val_loss: 0.4140 - val_acc: 0.8506\n",
      "Epoch 8/30\n",
      "60000/60000 [==============================] - 78s 1ms/step - loss: 0.3342 - acc: 0.8757 - val_loss: 0.4136 - val_acc: 0.8494\n",
      "Epoch 9/30\n",
      "60000/60000 [==============================] - 78s 1ms/step - loss: 0.3205 - acc: 0.8824 - val_loss: 0.3667 - val_acc: 0.8677\n",
      "Epoch 10/30\n",
      "60000/60000 [==============================] - 74s 1ms/step - loss: 0.3071 - acc: 0.8871 - val_loss: 0.3811 - val_acc: 0.8576\n",
      "Epoch 11/30\n",
      "60000/60000 [==============================] - 74s 1ms/step - loss: 0.2967 - acc: 0.8901 - val_loss: 0.3574 - val_acc: 0.8726\n",
      "Epoch 12/30\n",
      "60000/60000 [==============================] - 70s 1ms/step - loss: 0.2851 - acc: 0.8937 - val_loss: 0.3251 - val_acc: 0.8800\n",
      "Epoch 13/30\n",
      "60000/60000 [==============================] - 69s 1ms/step - loss: 0.2763 - acc: 0.8980 - val_loss: 0.3253 - val_acc: 0.8806\n",
      "Epoch 14/30\n",
      "60000/60000 [==============================] - 73s 1ms/step - loss: 0.2665 - acc: 0.9022 - val_loss: 0.3617 - val_acc: 0.8693\n",
      "Epoch 15/30\n",
      "60000/60000 [==============================] - 70s 1ms/step - loss: 0.2574 - acc: 0.9050 - val_loss: 0.3447 - val_acc: 0.8742\n",
      "Epoch 16/30\n",
      "60000/60000 [==============================] - 69s 1ms/step - loss: 0.2507 - acc: 0.9069 - val_loss: 0.3577 - val_acc: 0.8735\n",
      "Epoch 17/30\n",
      "60000/60000 [==============================] - 74s 1ms/step - loss: 0.2439 - acc: 0.9086 - val_loss: 0.3411 - val_acc: 0.8769\n",
      "Epoch 18/30\n",
      "60000/60000 [==============================] - 81s 1ms/step - loss: 0.2347 - acc: 0.9127 - val_loss: 0.3241 - val_acc: 0.8854\n",
      "Epoch 19/30\n",
      "60000/60000 [==============================] - 82s 1ms/step - loss: 0.2271 - acc: 0.9159 - val_loss: 0.3289 - val_acc: 0.8839\n",
      "Epoch 20/30\n",
      "60000/60000 [==============================] - 93s 2ms/step - loss: 0.2222 - acc: 0.9168 - val_loss: 0.3234 - val_acc: 0.8878\n",
      "Epoch 21/30\n",
      "60000/60000 [==============================] - 90s 1ms/step - loss: 0.2161 - acc: 0.9205 - val_loss: 0.3406 - val_acc: 0.8837\n",
      "Epoch 22/30\n",
      "60000/60000 [==============================] - 83s 1ms/step - loss: 0.2097 - acc: 0.9222 - val_loss: 0.3335 - val_acc: 0.8839\n",
      "Epoch 23/30\n",
      "60000/60000 [==============================] - 81s 1ms/step - loss: 0.2041 - acc: 0.9245 - val_loss: 0.3272 - val_acc: 0.8882\n",
      "Epoch 24/30\n",
      "60000/60000 [==============================] - 88s 1ms/step - loss: 0.1984 - acc: 0.9266 - val_loss: 0.3295 - val_acc: 0.8871\n",
      "Epoch 25/30\n",
      "60000/60000 [==============================] - 93s 2ms/step - loss: 0.1912 - acc: 0.9289 - val_loss: 0.3276 - val_acc: 0.8857\n",
      "Epoch 26/30\n",
      "60000/60000 [==============================] - 104s 2ms/step - loss: 0.1876 - acc: 0.9302 - val_loss: 0.3713 - val_acc: 0.8723\n",
      "Epoch 27/30\n",
      "60000/60000 [==============================] - 98s 2ms/step - loss: 0.1827 - acc: 0.9323 - val_loss: 0.3534 - val_acc: 0.8842\n",
      "Epoch 28/30\n",
      "60000/60000 [==============================] - 112s 2ms/step - loss: 0.1768 - acc: 0.9357 - val_loss: 0.3554 - val_acc: 0.8861\n",
      "Epoch 29/30\n",
      "60000/60000 [==============================] - 100s 2ms/step - loss: 0.1721 - acc: 0.9368 - val_loss: 0.3174 - val_acc: 0.8954\n",
      "Epoch 30/30\n",
      "60000/60000 [==============================] - 75s 1ms/step - loss: 0.1674 - acc: 0.9374 - val_loss: 0.3332 - val_acc: 0.8898\n"
     ]
    }
   ],
   "source": [
    "history = model.fit(X_train,y_train, epochs=30, batch_size = 256, validation_data=(X_test, y_test))"
   ]
  },
  {
   "cell_type": "markdown",
   "metadata": {
    "colab_type": "text",
    "id": "ecSGLWrMryDi"
   },
   "source": [
    "## ** Graphic Visualization**"
   ]
  },
  {
   "cell_type": "code",
   "execution_count": 14,
   "metadata": {
    "colab": {
     "base_uri": "https://localhost:8080/",
     "height": 1106
    },
    "colab_type": "code",
    "id": "o2MZmgoqrwzT",
    "outputId": "1a5fc16b-7e7a-4d78-c5e7-72d0050fcfee"
   },
   "outputs": [
    {
     "name": "stdout",
     "output_type": "stream",
     "text": [
      "dict_keys(['val_acc', 'acc', 'loss', 'val_loss'])\n"
     ]
    },
    {
     "data": {
      "image/png": "[encoded data removed]",
      "text/plain": [
       "<Figure size 800x600 with 1 Axes>"
      ]
     },
     "metadata": {},
     "output_type": "display_data"
    },
    {
     "data": {
      "image/png": "[encoded data removed]",
      "text/plain": [
       "<Figure size 800x600 with 1 Axes>"
      ]
     },
     "metadata": {},
     "output_type": "display_data"
    }
   ],
   "source": [
    "# list all data in history\n",
    "print(history.history.keys())\n",
    "# summarize history for accuracy\n",
    "plt.figure(figsize=(8, 6), dpi=100)\n",
    "plt.plot(history.history['acc'])\n",
    "plt.plot(history.history['val_acc'])\n",
    "plt.title('model accuracy')\n",
    "plt.ylabel('accuracy')\n",
    "plt.xlabel('epoch')\n",
    "plt.legend(['train', 'test'], loc='upper left')\n",
    "plt.savefig(os.path.join('model accuracy 3.png'))\n",
    "plt.show()\n",
    "# summarize history for loss\n",
    "plt.figure(figsize=(8, 6), dpi=100)\n",
    "plt.plot(history.history['loss'])\n",
    "plt.plot(history.history['val_loss'])\n",
    "plt.title('model loss')\n",
    "plt.ylabel('loss')\n",
    "plt.xlabel('epoch')\n",
    "plt.legend(['train', 'test'], loc='upper left')\n",
    "plt.savefig(os.path.join('model loss 3.png'))\n",
    "plt.show()"
   ]
  },
  {
   "cell_type": "markdown",
   "metadata": {
    "colab": {},
    "colab_type": "code",
    "id": "hXb8MHClkCLL"
   },
   "source": [
    "### Hyperparemeter Search"
   ]
  },
  {
   "cell_type": "code",
   "execution_count": 15,
   "metadata": {},
   "outputs": [],
   "source": [
    "def zolando_fashion(optimizer='rmsprop'):\n",
    "  model = Sequential()\n",
    "  model.add(Conv2D(25,(3,3), activation='relu', dim_ordering='tf', input_shape=(28,28,1)))\n",
    "  model.add(MaxPooling2D((2,2)))\n",
    "  model.add(Conv2D(50,(3,3), activation='relu'))\n",
    "  model.add(MaxPooling2D((2,2)))\n",
    "  model.add(Conv2D(100,(3,3), activation='relu'))\n",
    "  model.add(Dropout(0.5))\n",
    "  model.add(MaxPooling2D((2,2)))\n",
    "  model.add(Flatten())\n",
    "  model.add(Dense(10, activation='softmax'))\n",
    "  model.compile(optimizer=optimizer,\n",
    "                loss='categorical_crossentropy',\n",
    "                metrics=['accuracy'])\n",
    "  return model"
   ]
  }
 ],
 "metadata": {
  "accelerator": "GPU",
  "colab": {
   "name": "Untitled0.ipynb",
   "provenance": [],
   "version": "0.3.2"
  },
  "kernelspec": {
   "display_name": "Python 3",
   "language": "python",
   "name": "python3"
  },
  "language_info": {
   "codemirror_mode": {
    "name": "ipython",
    "version": 3
   },
   "file_extension": ".py",
   "mimetype": "text/x-python",
   "name": "python",
   "nbconvert_exporter": "python",
   "pygments_lexer": "ipython3",
   "version": "3.6.6"
  }
 },
 "nbformat": 4,
 "nbformat_minor": 1
}
