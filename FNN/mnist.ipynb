{
 "cells": [
  {
   "cell_type": "markdown",
   "metadata": {},
   "source": [
    "# Introduction to Feed Forward Neural Networks with Pytorch"
   ]
  },
  {
   "cell_type": "code",
   "execution_count": 2,
   "metadata": {},
   "outputs": [],
   "source": [
    "import torch\n",
    "import torch.nn as nn # Module for neural networks\n",
    "from torch.autograd import Variable # Autograd (save history of operations)\n",
    "\n",
    "import torchvision.datasets as dset # Load datasets\n",
    "import torchvision.transforms as transforms # Preprocessing\n",
    "\n",
    "import torch.nn.functional as F \n",
    "import torch.optim as optim\n",
    "from torchsummary import summary"
   ]
  },
  {
   "cell_type": "code",
   "execution_count": 3,
   "metadata": {},
   "outputs": [],
   "source": [
    "import os\n",
    "root = './data'\n",
    "if not os.path.exists(root):\n",
    "    os.mkdir(root)"
   ]
  },
  {
   "cell_type": "markdown",
   "metadata": {},
   "source": [
    "## Load datasets"
   ]
  },
  {
   "cell_type": "code",
   "execution_count": 4,
   "metadata": {},
   "outputs": [],
   "source": [
    "trans = transforms.Compose([transforms.ToTensor(), transforms.Normalize((0.5,), (1.0,))])"
   ]
  },
  {
   "cell_type": "code",
   "execution_count": 5,
   "metadata": {},
   "outputs": [
    {
     "name": "stdout",
     "output_type": "stream",
     "text": [
      "Downloading http://yann.lecun.com/exdb/mnist/train-images-idx3-ubyte.gz\n",
      "Downloading http://yann.lecun.com/exdb/mnist/train-labels-idx1-ubyte.gz\n",
      "Downloading http://yann.lecun.com/exdb/mnist/t10k-images-idx3-ubyte.gz\n",
      "Downloading http://yann.lecun.com/exdb/mnist/t10k-labels-idx1-ubyte.gz\n",
      "Processing...\n",
      "Done!\n"
     ]
    }
   ],
   "source": [
    "train_set = dset.MNIST(root=root, train=True, transform=trans, download=True)\n",
    "test_set = dset.MNIST(root=root, train=False, transform=trans,download=True)"
   ]
  },
  {
   "cell_type": "code",
   "execution_count": 7,
   "metadata": {},
   "outputs": [],
   "source": [
    "batch_size = 100 # Batch learning"
   ]
  },
  {
   "cell_type": "code",
   "execution_count": 8,
   "metadata": {},
   "outputs": [
    {
     "name": "stdout",
     "output_type": "stream",
     "text": [
      "Total training batch number: 600\n",
      "Total testing batch number: 100\n"
     ]
    }
   ],
   "source": [
    "train_loader = torch.utils.data.DataLoader(\n",
    "                dataset=train_set,\n",
    "                batch_size=batch_size,\n",
    "                shuffle=True)\n",
    "test_loader = torch.utils.data.DataLoader(\n",
    "                dataset=test_set,\n",
    "                batch_size=batch_size,\n",
    "                shuffle=True)\n",
    "print('Total training batch number: {}'.format(len(train_loader)))\n",
    "print('Total testing batch number: {}'.format(len(test_loader)))"
   ]
  },
  {
   "cell_type": "markdown",
   "metadata": {},
   "source": [
    "## Define Architecture"
   ]
  },
  {
   "cell_type": "code",
   "execution_count": null,
   "metadata": {},
   "outputs": [],
   "source": []
  },
  {
   "cell_type": "code",
   "execution_count": 9,
   "metadata": {},
   "outputs": [],
   "source": [
    "class MLPNet(nn.Module):\n",
    "    def __init__(self):\n",
    "        super(MLPNet, self).__init__()\n",
    "        self.fc1 = nn.Linear(28*28, 500, bias=True) # AX + b\n",
    "        self.fc2 = nn.Linear(500, 256)\n",
    "        self.fc3 = nn.Linear(256, 10)\n",
    "    def forward(self, x):\n",
    "        x = x.view(-1, 28*28)\n",
    "        y = F.relu(self.fc1(x)) # Max(0, x)\n",
    "        z = F.relu(self.fc2(y))\n",
    "        u = self.fc3(z)\n",
    "        return u\n",
    "\n",
    "class LeNet(nn.Module):\n",
    "    def __init__(self):\n",
    "        super(LeNet, self).__init__()\n",
    "        self.conv1 = nn.Conv2d(in_channels=1, \n",
    "                               out_channels=20,\n",
    "                               kernel_size=5,\n",
    "                               padding=1)\n",
    "        self.conv2 = nn.Conv2d(20, 50, 5, 1)\n",
    "        self.fc1 = nn.Linear(4*4*50, 500)\n",
    "        self.fc2 = nn.Linear(500, 10)\n",
    "    \n",
    "    def forward(self, x):\n",
    "        x = F.relu(self.conv1(x))\n",
    "        x = F.max_pool2d(x, 2, 2)\n",
    "        x = F.relu(self.conv2(x))\n",
    "        x = F.max_pool2d(x, 2, 2)\n",
    "        x = x.view(-1, 4*4*50)\n",
    "        x = F.relu(self.fc1(x))\n",
    "        x = self.fc2(x)\n",
    "        return x\n",
    "    def name(self):\n",
    "        return \"LeNet\""
   ]
  },
  {
   "cell_type": "code",
   "execution_count": 10,
   "metadata": {},
   "outputs": [
    {
     "name": "stdout",
     "output_type": "stream",
     "text": [
      "----------------------------------------------------------------\n",
      "        Layer (type)               Output Shape         Param #\n",
      "================================================================\n",
      "            Conv2d-1           [-1, 20, 26, 26]             520\n",
      "            Conv2d-2             [-1, 50, 9, 9]          25,050\n",
      "            Linear-3                  [-1, 500]         400,500\n",
      "            Linear-4                   [-1, 10]           5,010\n",
      "================================================================\n",
      "Total params: 431,080\n",
      "Trainable params: 431,080\n",
      "Non-trainable params: 0\n",
      "----------------------------------------------------------------\n",
      "Input size (MB): 0.00\n",
      "Forward/backward pass size (MB): 0.14\n",
      "Params size (MB): 1.64\n",
      "Estimated Total Size (MB): 1.79\n",
      "----------------------------------------------------------------\n",
      "None\n"
     ]
    }
   ],
   "source": [
    "if torch.cuda.is_available():\n",
    "    device = torch.device('cuda')\n",
    "else:\n",
    "    device = torch.device('cpu')\n",
    "\n",
    "model = LeNet()\n",
    "#model = model.cuda()\n",
    "print(summary(model, (1, 28, 28)))"
   ]
  },
  {
   "cell_type": "code",
   "execution_count": 11,
   "metadata": {},
   "outputs": [
    {
     "name": "stdout",
     "output_type": "stream",
     "text": [
      "LeNet(\n",
      "  (conv1): Conv2d(1, 20, kernel_size=(5, 5), stride=(1, 1), padding=(1, 1))\n",
      "  (conv2): Conv2d(20, 50, kernel_size=(5, 5), stride=(1, 1))\n",
      "  (fc1): Linear(in_features=800, out_features=500, bias=True)\n",
      "  (fc2): Linear(in_features=500, out_features=10, bias=True)\n",
      ")\n"
     ]
    }
   ],
   "source": [
    "print(model)"
   ]
  },
  {
   "cell_type": "markdown",
   "metadata": {},
   "source": [
    "## Define Optimizer and loss function"
   ]
  },
  {
   "cell_type": "code",
   "execution_count": 13,
   "metadata": {},
   "outputs": [],
   "source": [
    "optimizer = optim.SGD(model.parameters(), lr=0.01, momentum=0.9)\n",
    "criterion = nn.CrossEntropyLoss()"
   ]
  },
  {
   "cell_type": "markdown",
   "metadata": {},
   "source": []
  },
  {
   "cell_type": "markdown",
   "metadata": {},
   "source": [
    "## Training and Validation"
   ]
  },
  {
   "cell_type": "code",
   "execution_count": 14,
   "metadata": {},
   "outputs": [
    {
     "name": "stdout",
     "output_type": "stream",
     "text": [
      "epoch: 0, batch index: 100, train loss: 0.775963\n",
      "epoch: 0, batch index: 200, train loss: 0.276948\n",
      "epoch: 0, batch index: 300, train loss: 0.154273\n",
      "epoch: 0, batch index: 400, train loss: 0.131971\n",
      "epoch: 0, batch index: 500, train loss: 0.097019\n",
      "epoch: 0, batch index: 600, train loss: 0.076483\n",
      "epoch: 0, batch index: 100, test loss:0.065151, acc: 0.977\n",
      "epoch: 1, batch index: 100, train loss: 0.076308\n",
      "epoch: 1, batch index: 200, train loss: 0.077981\n",
      "epoch: 1, batch index: 300, train loss: 0.089371\n",
      "epoch: 1, batch index: 400, train loss: 0.067467\n",
      "epoch: 1, batch index: 500, train loss: 0.059038\n",
      "epoch: 1, batch index: 600, train loss: 0.073413\n",
      "epoch: 1, batch index: 100, test loss:0.050418, acc: 0.985\n",
      "epoch: 2, batch index: 100, train loss: 0.061608\n",
      "epoch: 2, batch index: 200, train loss: 0.057691\n",
      "epoch: 2, batch index: 300, train loss: 0.063467\n",
      "epoch: 2, batch index: 400, train loss: 0.055256\n",
      "epoch: 2, batch index: 500, train loss: 0.042882\n",
      "epoch: 2, batch index: 600, train loss: 0.048909\n",
      "epoch: 2, batch index: 100, test loss:0.030610, acc: 0.988\n",
      "epoch: 3, batch index: 100, train loss: 0.031085\n",
      "epoch: 3, batch index: 200, train loss: 0.050199\n",
      "epoch: 3, batch index: 300, train loss: 0.032291\n",
      "epoch: 3, batch index: 400, train loss: 0.043291\n",
      "epoch: 3, batch index: 500, train loss: 0.032260\n",
      "epoch: 3, batch index: 600, train loss: 0.030133\n",
      "epoch: 3, batch index: 100, test loss:0.034371, acc: 0.989\n",
      "epoch: 4, batch index: 100, train loss: 0.028192\n",
      "epoch: 4, batch index: 200, train loss: 0.034281\n",
      "epoch: 4, batch index: 300, train loss: 0.028429\n",
      "epoch: 4, batch index: 400, train loss: 0.028850\n",
      "epoch: 4, batch index: 500, train loss: 0.025302\n",
      "epoch: 4, batch index: 600, train loss: 0.032033\n",
      "epoch: 4, batch index: 100, test loss:0.029588, acc: 0.989\n",
      "epoch: 5, batch index: 100, train loss: 0.023752\n",
      "epoch: 5, batch index: 200, train loss: 0.024996\n",
      "epoch: 5, batch index: 300, train loss: 0.030264\n",
      "epoch: 5, batch index: 400, train loss: 0.030426\n",
      "epoch: 5, batch index: 500, train loss: 0.023310\n",
      "epoch: 5, batch index: 600, train loss: 0.041780\n",
      "epoch: 5, batch index: 100, test loss:0.027564, acc: 0.990\n",
      "epoch: 6, batch index: 100, train loss: 0.019223\n",
      "epoch: 6, batch index: 200, train loss: 0.026602\n",
      "epoch: 6, batch index: 300, train loss: 0.023563\n",
      "epoch: 6, batch index: 400, train loss: 0.025535\n",
      "epoch: 6, batch index: 500, train loss: 0.019157\n",
      "epoch: 6, batch index: 600, train loss: 0.019751\n",
      "epoch: 6, batch index: 100, test loss:0.029205, acc: 0.989\n",
      "epoch: 7, batch index: 100, train loss: 0.023369\n",
      "epoch: 7, batch index: 200, train loss: 0.022748\n",
      "epoch: 7, batch index: 300, train loss: 0.019779\n",
      "epoch: 7, batch index: 400, train loss: 0.022758\n",
      "epoch: 7, batch index: 500, train loss: 0.013415\n",
      "epoch: 7, batch index: 600, train loss: 0.020408\n",
      "epoch: 7, batch index: 100, test loss:0.038901, acc: 0.990\n",
      "epoch: 8, batch index: 100, train loss: 0.013360\n",
      "epoch: 8, batch index: 200, train loss: 0.022500\n",
      "epoch: 8, batch index: 300, train loss: 0.017457\n",
      "epoch: 8, batch index: 400, train loss: 0.016199\n",
      "epoch: 8, batch index: 500, train loss: 0.017373\n",
      "epoch: 8, batch index: 600, train loss: 0.011019\n",
      "epoch: 8, batch index: 100, test loss:0.031529, acc: 0.992\n",
      "epoch: 9, batch index: 100, train loss: 0.016387\n",
      "epoch: 9, batch index: 200, train loss: 0.018982\n",
      "epoch: 9, batch index: 300, train loss: 0.012133\n",
      "epoch: 9, batch index: 400, train loss: 0.016999\n",
      "epoch: 9, batch index: 500, train loss: 0.010055\n",
      "epoch: 9, batch index: 600, train loss: 0.014944\n",
      "epoch: 9, batch index: 100, test loss:0.022443, acc: 0.992\n"
     ]
    }
   ],
   "source": [
    "for epoch in range(10):\n",
    "    # Training\n",
    "    ave_loss = 0\n",
    "    for batch_idx, data in enumerate(train_loader):\n",
    "        optimizer.zero_grad()\n",
    "        x, target = data\n",
    "        if torch.cuda.is_available():\n",
    "            x, target = x.cuda(), target.cuda()\n",
    "        x, target = Variable(x), Variable(target)\n",
    "        out = model(x)\n",
    "        # print(out)\n",
    "        loss = criterion(out, target)\n",
    "        # print('loss, ', loss)\n",
    "        \n",
    "        ave_loss = ave_loss * 0.9 + loss.item() * 0.1\n",
    "        \n",
    "        loss.backward()\n",
    "        optimizer.step()\n",
    "        \n",
    "        if (batch_idx+1)%100 == 0 or (batch_idx+1) == len(train_loader):\n",
    "            print('epoch: {}, batch index: {}, train loss: {:.6f}'.format(\n",
    "            epoch, batch_idx+1, ave_loss))\n",
    "            \n",
    "    # testing \n",
    "    with torch.no_grad():\n",
    "\n",
    "        correct_cnt, ave_loss = 0, 0\n",
    "        total_cnt = 0\n",
    "        for batch_idx, (x, target) in enumerate(test_loader):\n",
    "            if torch.cuda.is_available():\n",
    "                x, target = x.cuda(), target.cuda()\n",
    "            x, target = Variable(x), Variable(target)\n",
    "            out = model(x)\n",
    "            loss = criterion(out, target)\n",
    "            _, pred_label = torch.max(out.data, 1)\n",
    "            total_cnt += x.data.size()[0]\n",
    "            correct_cnt += (pred_label == target.data).sum()\n",
    "            # smooth average\n",
    "            ave_loss = ave_loss * 0.9 + loss.item()* 0.1\n",
    "\n",
    "            if (batch_idx+1) % 100 == 0 or (batch_idx+1) == len(test_loader):\n",
    "                print('epoch: {}, batch index: {}, test loss:{:.6f}, acc: {:.3f}'.format(\n",
    "                    epoch, batch_idx+1, ave_loss, correct_cnt.float() * 1.0/total_cnt))"
   ]
  },
  {
   "cell_type": "code",
   "execution_count": null,
   "metadata": {},
   "outputs": [],
   "source": []
  }
 ],
 "metadata": {
  "kernelspec": {
   "display_name": "Python 3",
   "language": "python",
   "name": "python3"
  },
  "language_info": {
   "codemirror_mode": {
    "name": "ipython",
    "version": 3
   },
   "file_extension": ".py",
   "mimetype": "text/x-python",
   "name": "python",
   "nbconvert_exporter": "python",
   "pygments_lexer": "ipython3",
   "version": "3.5.2"
  }
 },
 "nbformat": 4,
 "nbformat_minor": 2
}
