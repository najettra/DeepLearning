{
  "nbformat": 4,
  "nbformat_minor": 0,
  "metadata": {
    "colab": {
      "name": "news_classification_cnn.ipynb",
      "version": "0.3.2",
      "provenance": [],
      "collapsed_sections": []
    },
    "kernelspec": {
      "display_name": "Python 3",
      "language": "python",
      "name": "python3"
    },
    "accelerator": "GPU"
  },
  "cells": [
    {
      "metadata": {
        "id": "VbUeXqD8BAag",
        "colab_type": "code",
        "colab": {}
      },
      "cell_type": "code",
      "source": [
        "import  numpy  as  np\n",
        "import  pandas  as pd\n",
        "import  pickle\n",
        "from  collections import defaultdict\n",
        "import re\n",
        "import sys\n",
        "import os\n",
        "from sklearn.datasets import fetch_20newsgroups\n",
        "from keras.datasets import reuters\n",
        "from keras.preprocessing.text import Tokenizer\n",
        "from keras.preprocessing.sequence import pad_sequences\n",
        "from keras.utils.np_utils import to_categorical\n",
        "from keras.layers import Embedding\n",
        "from keras.layers import Dense, Input, Flatten\n",
        "from keras.layers import Conv1D, MaxPooling1D, Embedding, Dropout, BatchNormalization, Activation, LSTM\n",
        "from keras.models import Model\n",
        "from keras.optimizers import Adam\n",
        "from keras.callbacks import ModelCheckpoint\n",
        "import matplotlib.pyplot as plt\n",
        "%matplotlib inline"
      ],
      "execution_count": 0,
      "outputs": []
    },
    {
      "metadata": {
        "id": "qdxwy3GGNKe7",
        "colab_type": "text"
      },
      "cell_type": "markdown",
      "source": [
        "# Loading the dataset"
      ]
    },
    {
      "metadata": {
        "id": "sTVGpi6nyVx6",
        "colab_type": "code",
        "colab": {
          "base_uri": "https://localhost:8080/",
          "height": 52
        },
        "outputId": "c99b49ea-1894-4ba7-e208-d65ec2086ed7"
      },
      "cell_type": "code",
      "source": [
        "data_train = fetch_20newsgroups(subset='train', shuffle=True)\n",
        "data_test = fetch_20newsgroups(subset='test', shuffle=True)"
      ],
      "execution_count": 4,
      "outputs": [
        {
          "output_type": "stream",
          "text": [
            "Downloading 20news dataset. This may take a few minutes.\n",
            "Downloading dataset from https://ndownloader.figshare.com/files/5975967 (14 MB)\n"
          ],
          "name": "stderr"
        }
      ]
    },
    {
      "metadata": {
        "id": "G_ZV-yuvyVx_",
        "colab_type": "code",
        "colab": {
          "base_uri": "https://localhost:8080/",
          "height": 364
        },
        "outputId": "be3bd9b5-af2b-4314-f10c-ead06e61d6d8"
      },
      "cell_type": "code",
      "source": [
        "set(data_train.target_names)"
      ],
      "execution_count": 5,
      "outputs": [
        {
          "output_type": "execute_result",
          "data": {
            "text/plain": [
              "{'alt.atheism',\n",
              " 'comp.graphics',\n",
              " 'comp.os.ms-windows.misc',\n",
              " 'comp.sys.ibm.pc.hardware',\n",
              " 'comp.sys.mac.hardware',\n",
              " 'comp.windows.x',\n",
              " 'misc.forsale',\n",
              " 'rec.autos',\n",
              " 'rec.motorcycles',\n",
              " 'rec.sport.baseball',\n",
              " 'rec.sport.hockey',\n",
              " 'sci.crypt',\n",
              " 'sci.electronics',\n",
              " 'sci.med',\n",
              " 'sci.space',\n",
              " 'soc.religion.christian',\n",
              " 'talk.politics.guns',\n",
              " 'talk.politics.mideast',\n",
              " 'talk.politics.misc',\n",
              " 'talk.religion.misc'}"
            ]
          },
          "metadata": {
            "tags": []
          },
          "execution_count": 5
        }
      ]
    },
    {
      "metadata": {
        "id": "u8jM0--zyVyG",
        "colab_type": "code",
        "colab": {
          "base_uri": "https://localhost:8080/",
          "height": 34
        },
        "outputId": "2318e3c4-f138-4ecd-8bb3-ac34029e9f45"
      },
      "cell_type": "code",
      "source": [
        "nb_classes=len(set(data_train.target_names))\n",
        "print('No. of unique classes',nb_classes)"
      ],
      "execution_count": 6,
      "outputs": [
        {
          "output_type": "stream",
          "text": [
            "No. of unique classes 20\n"
          ],
          "name": "stdout"
        }
      ]
    },
    {
      "metadata": {
        "id": "h0RuytOxB1Bs",
        "colab_type": "code",
        "colab": {}
      },
      "cell_type": "code",
      "source": [
        "x_train=data_train.data\n",
        "y_train=data_train.target"
      ],
      "execution_count": 0,
      "outputs": []
    },
    {
      "metadata": {
        "id": "QAWhamWZyVyS",
        "colab_type": "code",
        "colab": {}
      },
      "cell_type": "code",
      "source": [
        "x_test=data_test.data\n",
        "y_test=data_test.target"
      ],
      "execution_count": 0,
      "outputs": []
    },
    {
      "metadata": {
        "id": "22s5lEr2NUHS",
        "colab_type": "text"
      },
      "cell_type": "markdown",
      "source": [
        "# Transform the target classes to categorical"
      ]
    },
    {
      "metadata": {
        "id": "_BCQCx3oCbXe",
        "colab_type": "code",
        "colab": {}
      },
      "cell_type": "code",
      "source": [
        "y_train=to_categorical(y_train, nb_classes)\n",
        "y_test=to_categorical(y_test, nb_classes)"
      ],
      "execution_count": 0,
      "outputs": []
    },
    {
      "metadata": {
        "id": "LPJpYK0pDSI_",
        "colab_type": "code",
        "colab": {
          "base_uri": "https://localhost:8080/",
          "height": 34
        },
        "outputId": "e5c7e45b-d9fb-4a04-d227-5d3be2a48a66"
      },
      "cell_type": "code",
      "source": [
        "y_train.shape"
      ],
      "execution_count": 10,
      "outputs": [
        {
          "output_type": "execute_result",
          "data": {
            "text/plain": [
              "(11314, 20)"
            ]
          },
          "metadata": {
            "tags": []
          },
          "execution_count": 10
        }
      ]
    },
    {
      "metadata": {
        "id": "V_roXqsgyVyi",
        "colab_type": "code",
        "colab": {
          "base_uri": "https://localhost:8080/",
          "height": 34
        },
        "outputId": "c1311ecb-66ba-4492-9c31-74411b09b152"
      },
      "cell_type": "code",
      "source": [
        "len(x_train), len(x_test)"
      ],
      "execution_count": 11,
      "outputs": [
        {
          "output_type": "execute_result",
          "data": {
            "text/plain": [
              "(11314, 7532)"
            ]
          },
          "metadata": {
            "tags": []
          },
          "execution_count": 11
        }
      ]
    },
    {
      "metadata": {
        "id": "F30NSpHJyVyx",
        "colab_type": "code",
        "colab": {
          "base_uri": "https://localhost:8080/",
          "height": 34
        },
        "outputId": "110e7049-fb9d-43ea-b92c-db4914dc5028"
      },
      "cell_type": "code",
      "source": [
        "raw_sentences=x_train+x_test\n",
        "len(raw_sentences)"
      ],
      "execution_count": 12,
      "outputs": [
        {
          "output_type": "execute_result",
          "data": {
            "text/plain": [
              "18846"
            ]
          },
          "metadata": {
            "tags": []
          },
          "execution_count": 12
        }
      ]
    },
    {
      "metadata": {
        "id": "LvOmEbuXPNVt",
        "colab_type": "text"
      },
      "cell_type": "markdown",
      "source": [
        "# Cleaning using nltk"
      ]
    },
    {
      "metadata": {
        "id": "WnZyfdc9yVzJ",
        "colab_type": "code",
        "colab": {}
      },
      "cell_type": "code",
      "source": [
        "from nltk.corpus import stopwords\n",
        "def sentence_clean(raw):\n",
        "    stop = stopwords.words('english')\n",
        "    sin_mail=re.sub('[\\w.$-]+@[\\w.$-]+','',raw)\n",
        "    clean = re.sub(\"[^a-zA-Z]\",\" \", sin_mail)\n",
        "    words = \" \".join([word.lower() for word in clean.split() if (word.lower() not in stop) and (len(word)>1)])\n",
        "    return words"
      ],
      "execution_count": 0,
      "outputs": []
    },
    {
      "metadata": {
        "id": "NoDHjI0kzm6q",
        "colab_type": "code",
        "colab": {
          "base_uri": "https://localhost:8080/",
          "height": 69
        },
        "outputId": "08c94102-7828-4cd9-b47b-90ee8f57518a"
      },
      "cell_type": "code",
      "source": [
        "import nltk\n",
        "nltk.download('stopwords')"
      ],
      "execution_count": 14,
      "outputs": [
        {
          "output_type": "stream",
          "text": [
            "[nltk_data] Downloading package stopwords to /root/nltk_data...\n",
            "[nltk_data]   Unzipping corpora/stopwords.zip.\n"
          ],
          "name": "stdout"
        },
        {
          "output_type": "execute_result",
          "data": {
            "text/plain": [
              "True"
            ]
          },
          "metadata": {
            "tags": []
          },
          "execution_count": 14
        }
      ]
    },
    {
      "metadata": {
        "id": "e_L1k6jdyVzO",
        "colab_type": "code",
        "colab": {}
      },
      "cell_type": "code",
      "source": [
        "sentences = []\n",
        "for raw_sentence in raw_sentences:\n",
        "    if len(raw_sentence) > 0:\n",
        "        sentences.append(sentence_clean(raw_sentence))"
      ],
      "execution_count": 0,
      "outputs": []
    },
    {
      "metadata": {
        "id": "zJR54jjLyVzT",
        "colab_type": "code",
        "colab": {
          "base_uri": "https://localhost:8080/",
          "height": 34
        },
        "outputId": "4b06c777-3bbb-4528-ec1b-cb2ea5ebe471"
      },
      "cell_type": "code",
      "source": [
        "len(sentences)"
      ],
      "execution_count": 16,
      "outputs": [
        {
          "output_type": "execute_result",
          "data": {
            "text/plain": [
              "18846"
            ]
          },
          "metadata": {
            "tags": []
          },
          "execution_count": 16
        }
      ]
    },
    {
      "metadata": {
        "id": "EpEPLg-WyVzf",
        "colab_type": "code",
        "colab": {
          "base_uri": "https://localhost:8080/",
          "height": 34
        },
        "outputId": "e69c9feb-616a-4d72-aea8-59b8d25e72de"
      },
      "cell_type": "code",
      "source": [
        "tokenizer = Tokenizer(num_words=20000)\n",
        "tokenizer.fit_on_texts(sentences)\n",
        "sequences = tokenizer.texts_to_sequences(sentences)\n",
        "\n",
        "word_index = tokenizer.word_index\n",
        "print('Number of Unique Tokens',len(word_index))"
      ],
      "execution_count": 42,
      "outputs": [
        {
          "output_type": "stream",
          "text": [
            "Number of Unique Tokens 106230\n"
          ],
          "name": "stdout"
        }
      ]
    },
    {
      "metadata": {
        "id": "U8_qKRlyGAcr",
        "colab_type": "code",
        "colab": {
          "base_uri": "https://localhost:8080/",
          "height": 34
        },
        "outputId": "c1800e49-d20e-4e42-b33b-d6d527d73a72"
      },
      "cell_type": "code",
      "source": [
        "MAX_SEQUENCE_LENGTH=0\n",
        "for i in range(len(sequences)):\n",
        "    if len(sequences[i])>MAX_SEQUENCE_LENGTH:\n",
        "        MAX_SEQUENCE_LENGTH=len(sequences[i])\n",
        "MAX_SEQUENCE_LENGTH"
      ],
      "execution_count": 43,
      "outputs": [
        {
          "output_type": "execute_result",
          "data": {
            "text/plain": [
              "12653"
            ]
          },
          "metadata": {
            "tags": []
          },
          "execution_count": 43
        }
      ]
    },
    {
      "metadata": {
        "id": "kvbc3GyOEq4T",
        "colab_type": "code",
        "colab": {}
      },
      "cell_type": "code",
      "source": [
        "data = pad_sequences(sequences, maxlen=1000)"
      ],
      "execution_count": 0,
      "outputs": []
    },
    {
      "metadata": {
        "id": "WgkhMwZdKNmo",
        "colab_type": "code",
        "colab": {
          "base_uri": "https://localhost:8080/",
          "height": 34
        },
        "outputId": "40d96a53-89b2-46e8-cfe5-bc7f58182615"
      },
      "cell_type": "code",
      "source": [
        "data.shape"
      ],
      "execution_count": 45,
      "outputs": [
        {
          "output_type": "execute_result",
          "data": {
            "text/plain": [
              "(18846, 1000)"
            ]
          },
          "metadata": {
            "tags": []
          },
          "execution_count": 45
        }
      ]
    },
    {
      "metadata": {
        "id": "0ss52TnT0U-o",
        "colab_type": "code",
        "colab": {
          "base_uri": "https://localhost:8080/",
          "height": 34
        },
        "outputId": "4c5541f6-9a9e-4a50-bd73-41c13a70b7d9"
      },
      "cell_type": "code",
      "source": [
        "data_train=data[:len(x_train)]\n",
        "data_test=data[len(x_train):]\n",
        "data_train.shape, data_test.shape"
      ],
      "execution_count": 46,
      "outputs": [
        {
          "output_type": "execute_result",
          "data": {
            "text/plain": [
              "((11314, 1000), (7532, 1000))"
            ]
          },
          "metadata": {
            "tags": []
          },
          "execution_count": 46
        }
      ]
    },
    {
      "metadata": {
        "id": "kLPTnavaBFPC",
        "colab_type": "code",
        "colab": {}
      },
      "cell_type": "code",
      "source": [
        "#from google.colab import files\n",
        "\n",
        "#uploaded = files.upload()"
      ],
      "execution_count": 0,
      "outputs": []
    },
    {
      "metadata": {
        "id": "ya18QyRvQ5lh",
        "colab_type": "code",
        "colab": {
          "base_uri": "https://localhost:8080/",
          "height": 211
        },
        "outputId": "04ddc924-18b6-453f-aac0-98eb828530bc"
      },
      "cell_type": "code",
      "source": [
        "! pip install pydrive\n",
        "# these classes allow you to request the Google drive API\n",
        "from pydrive.auth import GoogleAuth\n",
        "from pydrive.drive import GoogleDrive \n",
        "from google.colab import auth \n",
        "from oauth2client.client import GoogleCredentials\n",
        "\n",
        "# 1. Authenticate and create the PyDrive client.\n",
        "auth.authenticate_user()\n",
        "gauth = GoogleAuth()\n",
        "gauth.credentials = GoogleCredentials.get_application_default()\n",
        "drive = GoogleDrive(gauth)\n",
        "file_id = '1UBSqb68ek8CdALsfL9Ljzbb2iv-P9_qF'\n",
        "downloaded = drive.CreateFile({'id': file_id})\n",
        "# allows you to temporarily load your file in the notebook VM\n",
        "\n",
        "# assume the file is called file.csv and it's located at the root of your drive\n",
        "downloaded.GetContentFile('glove.6B.100d.txt')\n"
      ],
      "execution_count": 48,
      "outputs": [
        {
          "output_type": "stream",
          "text": [
            "Requirement already satisfied: pydrive in /usr/local/lib/python3.6/dist-packages (1.3.1)\r\n",
            "Requirement already satisfied: PyYAML>=3.0 in /usr/local/lib/python3.6/dist-packages (from pydrive) (3.13)\r\n",
            "Requirement already satisfied: oauth2client>=4.0.0 in /usr/local/lib/python3.6/dist-packages (from pydrive) (4.1.2)\r\n",
            "Requirement already satisfied: google-api-python-client>=1.2 in /usr/local/lib/python3.6/dist-packages (from pydrive) (1.6.7)\r\n",
            "Requirement already satisfied: six>=1.6.1 in /usr/local/lib/python3.6/dist-packages (from oauth2client>=4.0.0->pydrive) (1.11.0)\r\n",
            "Requirement already satisfied: httplib2>=0.9.1 in /usr/local/lib/python3.6/dist-packages (from oauth2client>=4.0.0->pydrive) (0.11.3)\r\n",
            "Requirement already satisfied: pyasn1>=0.1.7 in /usr/local/lib/python3.6/dist-packages (from oauth2client>=4.0.0->pydrive) (0.4.4)\r\n",
            "Requirement already satisfied: rsa>=3.1.4 in /usr/local/lib/python3.6/dist-packages (from oauth2client>=4.0.0->pydrive) (3.4.2)\r\n",
            "Requirement already satisfied: pyasn1-modules>=0.0.5 in /usr/local/lib/python3.6/dist-packages (from oauth2client>=4.0.0->pydrive) (0.2.2)\n",
            "Requirement already satisfied: uritemplate<4dev,>=3.0.0 in /usr/local/lib/python3.6/dist-packages (from google-api-python-client>=1.2->pydrive) (3.0.0)\n"
          ],
          "name": "stdout"
        }
      ]
    },
    {
      "metadata": {
        "id": "E6lbzgdUAJSP",
        "colab_type": "code",
        "colab": {
          "base_uri": "https://localhost:8080/",
          "height": 34
        },
        "outputId": "719c5490-6b88-4287-c257-036fa4f92c0e"
      },
      "cell_type": "code",
      "source": [
        "\n",
        "embeddings_index= {}\n",
        "f = open('glove.6B.100d.txt',encoding='utf8')\n",
        "for line in f:\n",
        "    values = line.split()\n",
        "    word = values[0]\n",
        "    codes = np.asarray(values[1:], dtype='float32')\n",
        "    embeddings_index[word] = codes\n",
        "f.close()\n",
        "\n",
        "print('Total %s word vectors in Glove 6B 100d.' % len(embeddings_index))"
      ],
      "execution_count": 49,
      "outputs": [
        {
          "output_type": "stream",
          "text": [
            "Total 400000 word vectors in Glove 6B 100d.\n"
          ],
          "name": "stdout"
        }
      ]
    },
    {
      "metadata": {
        "id": "tkEQc-ftJmw5",
        "colab_type": "code",
        "colab": {}
      },
      "cell_type": "code",
      "source": [
        "vocab_len=len(word_index)+1\n",
        "emb_dim=embeddings_index.get('one').shape[0]\n",
        "emb_matrix=np.random.random((vocab_len,emb_dim))\n",
        "for word, index in word_index.items():\n",
        "    embedding_vector = embeddings_index.get(word)\n",
        "    if embedding_vector is not None:\n",
        "        emb_matrix[index,:] = embedding_vector\n",
        "embedding_layer = Embedding(vocab_len, emb_dim, weights=[emb_matrix], input_length=1000,trainable=True)"
      ],
      "execution_count": 0,
      "outputs": []
    },
    {
      "metadata": {
        "id": "8UBuZ7FtgFTX",
        "colab_type": "code",
        "colab": {
          "base_uri": "https://localhost:8080/",
          "height": 34
        },
        "outputId": "ead46dfc-76e1-4537-b695-32f6a975095a"
      },
      "cell_type": "code",
      "source": [
        "emb_matrix.shape"
      ],
      "execution_count": 51,
      "outputs": [
        {
          "output_type": "execute_result",
          "data": {
            "text/plain": [
              "(106231, 100)"
            ]
          },
          "metadata": {
            "tags": []
          },
          "execution_count": 51
        }
      ]
    },
    {
      "metadata": {
        "id": "Tbh9U7sYB4uN",
        "colab_type": "code",
        "colab": {
          "base_uri": "https://localhost:8080/",
          "height": 54
        },
        "outputId": "897c9ce1-fc82-4a96-9cb9-345c206c24a1"
      },
      "cell_type": "code",
      "source": [
        "'''sequence_input = Input(shape=(1000,), dtype='int32')\n",
        "embeddings = embedding_layer(sequence_input)\n",
        "x = Conv1D(128, 3)(embeddings)\n",
        "x = BatchNormalization(axis=2)(x)\n",
        "x = Activation('relu')(x)\n",
        "x = MaxPooling1D(3)(x)\n",
        "\n",
        "x = Conv1D(256, 3)(x)\n",
        "x = BatchNormalization(axis=2)(x)\n",
        "x = Activation('relu')(x)\n",
        "x = MaxPooling1D(3)(x)\n",
        "\n",
        "x = Conv1D(512, 3)(x)\n",
        "x = BatchNormalization(axis=2)(x)\n",
        "x = Activation('relu')(x)\n",
        "x = MaxPooling1D(3)(x)  \n",
        "\n",
        "x = Flatten()(x)\n",
        "x = Dense(128, activation='relu')(x)\n",
        "x = Dropout(0.5)(x)\n",
        "x = Dense(nb_classes, activation='softmax')(x)\n",
        "\n",
        "model = Model(sequence_input, x)\n",
        "model.compile(loss='categorical_crossentropy',\n",
        "              optimizer='rmsprop',\n",
        "              metrics=['acc'])\n",
        "\n",
        "print(\"Simplified convolutional neural network\")\n",
        "model.summary()\n",
        "cp=ModelCheckpoint('textClassification_cnn.hdf5',monitor='val_acc',verbose=1,save_best_only=True)'''"
      ],
      "execution_count": 52,
      "outputs": [
        {
          "output_type": "execute_result",
          "data": {
            "text/plain": [
              "'sequence_input = Input(shape=(1000,), dtype=\\'int32\\')\\nembeddings = embedding_layer(sequence_input)\\nx = Conv1D(128, 3)(embeddings)\\nx = BatchNormalization(axis=2)(x)\\nx = Activation(\\'relu\\')(x)\\nx = MaxPooling1D(3)(x)\\n\\nx = Conv1D(256, 3)(x)\\nx = BatchNormalization(axis=2)(x)\\nx = Activation(\\'relu\\')(x)\\nx = MaxPooling1D(3)(x)\\n\\nx = Conv1D(512, 3)(x)\\nx = BatchNormalization(axis=2)(x)\\nx = Activation(\\'relu\\')(x)\\nx = MaxPooling1D(3)(x)  \\n\\nx = Flatten()(x)\\nx = Dense(128, activation=\\'relu\\')(x)\\nx = Dropout(0.5)(x)\\nx = Dense(nb_classes, activation=\\'softmax\\')(x)\\n\\nmodel = Model(sequence_input, x)\\nmodel.compile(loss=\\'categorical_crossentropy\\',\\n              optimizer=\\'rmsprop\\',\\n              metrics=[\\'acc\\'])\\n\\nprint(\"Simplified convolutional neural network\")\\nmodel.summary()\\ncp=ModelCheckpoint(\\'textClassification_cnn.hdf5\\',monitor=\\'val_acc\\',verbose=1,save_best_only=True)'"
            ]
          },
          "metadata": {
            "tags": []
          },
          "execution_count": 52
        }
      ]
    },
    {
      "metadata": {
        "id": "ximQVhh-JyqR",
        "colab_type": "code",
        "colab": {
          "base_uri": "https://localhost:8080/",
          "height": 642
        },
        "outputId": "08373750-4a02-4dff-c7cc-3bea1ad28441"
      },
      "cell_type": "code",
      "source": [
        "sequence_input = Input(shape=(1000,), dtype='int32')\n",
        "embedded_sequences = embedding_layer(sequence_input)\n",
        "x = Conv1D(128, 5)(embedded_sequences)\n",
        "#x = BatchNormalization(axis=2)(x)\n",
        "x = Activation('relu')(x)\n",
        "#x = Dropout(0.5)(x)\n",
        "x = MaxPooling1D(5)(x)\n",
        "x = Conv1D(128, 5)(x)\n",
        "#x = BatchNormalization(axis=2)(x)\n",
        "x = Activation('relu')(x)\n",
        "#x = Dropout(0.5)(x)\n",
        "x = MaxPooling1D(5)(x)\n",
        "x = Conv1D(128, 5, activation='relu')(x)\n",
        "x = MaxPooling1D(35)(x)  # global max pooling\n",
        "x = Flatten()(x)\n",
        "x = Dense(128, activation='relu')(x)\n",
        "x = Dropout(0.3)(x)\n",
        "x = Dense(20, activation='softmax')(x)\n",
        "adam = Adam(lr=0.00001)\n",
        "model = Model(sequence_input, x)\n",
        "model.compile(loss='categorical_crossentropy',\n",
        "              optimizer=adam,\n",
        "              metrics=['acc'])\n",
        "\n",
        "print(\"Simplified convolutional neural network\")\n",
        "model.summary()\n",
        "cp=ModelCheckpoint('textClassification_cnn.hdf5',monitor='val_acc',verbose=1,save_best_only=True)"
      ],
      "execution_count": 84,
      "outputs": [
        {
          "output_type": "stream",
          "text": [
            "Simplified convolutional neural network\n",
            "_________________________________________________________________\n",
            "Layer (type)                 Output Shape              Param #   \n",
            "=================================================================\n",
            "input_17 (InputLayer)        (None, 1000)              0         \n",
            "_________________________________________________________________\n",
            "embedding_2 (Embedding)      (None, 1000, 100)         10623100  \n",
            "_________________________________________________________________\n",
            "conv1d_46 (Conv1D)           (None, 996, 128)          64128     \n",
            "_________________________________________________________________\n",
            "activation_31 (Activation)   (None, 996, 128)          0         \n",
            "_________________________________________________________________\n",
            "max_pooling1d_46 (MaxPooling (None, 199, 128)          0         \n",
            "_________________________________________________________________\n",
            "conv1d_47 (Conv1D)           (None, 195, 128)          82048     \n",
            "_________________________________________________________________\n",
            "activation_32 (Activation)   (None, 195, 128)          0         \n",
            "_________________________________________________________________\n",
            "max_pooling1d_47 (MaxPooling (None, 39, 128)           0         \n",
            "_________________________________________________________________\n",
            "conv1d_48 (Conv1D)           (None, 35, 128)           82048     \n",
            "_________________________________________________________________\n",
            "max_pooling1d_48 (MaxPooling (None, 1, 128)            0         \n",
            "_________________________________________________________________\n",
            "flatten_16 (Flatten)         (None, 128)               0         \n",
            "_________________________________________________________________\n",
            "dense_32 (Dense)             (None, 128)               16512     \n",
            "_________________________________________________________________\n",
            "dropout_9 (Dropout)          (None, 128)               0         \n",
            "_________________________________________________________________\n",
            "dense_33 (Dense)             (None, 20)                2580      \n",
            "=================================================================\n",
            "Total params: 10,870,416\n",
            "Trainable params: 10,870,416\n",
            "Non-trainable params: 0\n",
            "_________________________________________________________________\n"
          ],
          "name": "stdout"
        }
      ]
    },
    {
      "metadata": {
        "id": "OkF2EUk-MlOt",
        "colab_type": "code",
        "colab": {
          "base_uri": "https://localhost:8080/",
          "height": 1444
        },
        "outputId": "b3c7a954-fe12-4233-cad5-e6908696ea41"
      },
      "cell_type": "code",
      "source": [
        "history=model.fit(data_train, y_train, validation_data=(data_test, y_test),epochs=20, batch_size=16,callbacks=[cp])"
      ],
      "execution_count": 85,
      "outputs": [
        {
          "output_type": "stream",
          "text": [
            "Train on 11314 samples, validate on 7532 samples\n",
            "Epoch 1/20\n",
            "11314/11314 [==============================] - 26s 2ms/step - loss: 2.9960 - acc: 0.0610 - val_loss: 2.9282 - val_acc: 0.1118\n",
            "\n",
            "Epoch 00001: val_acc improved from -inf to 0.11179, saving model to textClassification_cnn.hdf5\n",
            "Epoch 2/20\n",
            "11314/11314 [==============================] - 23s 2ms/step - loss: 2.8705 - acc: 0.1346 - val_loss: 2.8162 - val_acc: 0.2197\n",
            "\n",
            "Epoch 00002: val_acc improved from 0.11179 to 0.21973, saving model to textClassification_cnn.hdf5\n",
            "Epoch 3/20\n",
            "11314/11314 [==============================] - 23s 2ms/step - loss: 2.6993 - acc: 0.2226 - val_loss: 2.6213 - val_acc: 0.3205\n",
            "\n",
            "Epoch 00003: val_acc improved from 0.21973 to 0.32050, saving model to textClassification_cnn.hdf5\n",
            "Epoch 4/20\n",
            "11314/11314 [==============================] - 23s 2ms/step - loss: 2.4425 - acc: 0.3139 - val_loss: 2.3472 - val_acc: 0.4334\n",
            "\n",
            "Epoch 00004: val_acc improved from 0.32050 to 0.43335, saving model to textClassification_cnn.hdf5\n",
            "Epoch 5/20\n",
            "11314/11314 [==============================] - 23s 2ms/step - loss: 2.1486 - acc: 0.3984 - val_loss: 2.0696 - val_acc: 0.5230\n",
            "\n",
            "Epoch 00005: val_acc improved from 0.43335 to 0.52297, saving model to textClassification_cnn.hdf5\n",
            "Epoch 6/20\n",
            "11314/11314 [==============================] - 23s 2ms/step - loss: 1.8581 - acc: 0.4814 - val_loss: 1.8168 - val_acc: 0.5746\n",
            "\n",
            "Epoch 00006: val_acc improved from 0.52297 to 0.57461, saving model to textClassification_cnn.hdf5\n",
            "Epoch 7/20\n",
            "11314/11314 [==============================] - 23s 2ms/step - loss: 1.6083 - acc: 0.5507 - val_loss: 1.6127 - val_acc: 0.6052\n",
            "\n",
            "Epoch 00007: val_acc improved from 0.57461 to 0.60515, saving model to textClassification_cnn.hdf5\n",
            "Epoch 8/20\n",
            "11314/11314 [==============================] - 24s 2ms/step - loss: 1.4152 - acc: 0.6048 - val_loss: 1.4486 - val_acc: 0.6482\n",
            "\n",
            "Epoch 00008: val_acc improved from 0.60515 to 0.64817, saving model to textClassification_cnn.hdf5\n",
            "Epoch 9/20\n",
            "11314/11314 [==============================] - 23s 2ms/step - loss: 1.2320 - acc: 0.6552 - val_loss: 1.3131 - val_acc: 0.6823\n",
            "\n",
            "Epoch 00009: val_acc improved from 0.64817 to 0.68229, saving model to textClassification_cnn.hdf5\n",
            "Epoch 10/20\n",
            "11314/11314 [==============================] - 23s 2ms/step - loss: 1.0761 - acc: 0.7013 - val_loss: 1.2027 - val_acc: 0.6952\n",
            "\n",
            "Epoch 00010: val_acc improved from 0.68229 to 0.69517, saving model to textClassification_cnn.hdf5\n",
            "Epoch 11/20\n",
            "11314/11314 [==============================] - 23s 2ms/step - loss: 0.9516 - acc: 0.7348 - val_loss: 1.1166 - val_acc: 0.7055\n",
            "\n",
            "Epoch 00011: val_acc improved from 0.69517 to 0.70552, saving model to textClassification_cnn.hdf5\n",
            "Epoch 12/20\n",
            "11314/11314 [==============================] - 24s 2ms/step - loss: 0.8413 - acc: 0.7671 - val_loss: 1.0480 - val_acc: 0.7156\n",
            "\n",
            "Epoch 00012: val_acc improved from 0.70552 to 0.71561, saving model to textClassification_cnn.hdf5\n",
            "Epoch 13/20\n",
            "11314/11314 [==============================] - 23s 2ms/step - loss: 0.7479 - acc: 0.7966 - val_loss: 0.9913 - val_acc: 0.7252\n",
            "\n",
            "Epoch 00013: val_acc improved from 0.71561 to 0.72517, saving model to textClassification_cnn.hdf5\n",
            "Epoch 14/20\n",
            "11314/11314 [==============================] - 23s 2ms/step - loss: 0.6699 - acc: 0.8169 - val_loss: 0.9457 - val_acc: 0.7313\n",
            "\n",
            "Epoch 00014: val_acc improved from 0.72517 to 0.73128, saving model to textClassification_cnn.hdf5\n",
            "Epoch 15/20\n",
            "11314/11314 [==============================] - 23s 2ms/step - loss: 0.5973 - acc: 0.8350 - val_loss: 0.9145 - val_acc: 0.7367\n",
            "\n",
            "Epoch 00015: val_acc improved from 0.73128 to 0.73672, saving model to textClassification_cnn.hdf5\n",
            "Epoch 16/20\n",
            "11314/11314 [==============================] - 24s 2ms/step - loss: 0.5335 - acc: 0.8581 - val_loss: 0.8951 - val_acc: 0.7396\n",
            "\n",
            "Epoch 00016: val_acc improved from 0.73672 to 0.73964, saving model to textClassification_cnn.hdf5\n",
            "Epoch 17/20\n",
            "11314/11314 [==============================] - 23s 2ms/step - loss: 0.4894 - acc: 0.8697 - val_loss: 0.8670 - val_acc: 0.7475\n",
            "\n",
            "Epoch 00017: val_acc improved from 0.73964 to 0.74748, saving model to textClassification_cnn.hdf5\n",
            "Epoch 18/20\n",
            "11314/11314 [==============================] - 23s 2ms/step - loss: 0.4439 - acc: 0.8799 - val_loss: 0.8517 - val_acc: 0.7487\n",
            "\n",
            "Epoch 00018: val_acc improved from 0.74748 to 0.74867, saving model to textClassification_cnn.hdf5\n",
            "Epoch 19/20\n",
            "11314/11314 [==============================] - 23s 2ms/step - loss: 0.3990 - acc: 0.8944 - val_loss: 0.8445 - val_acc: 0.7545\n",
            "\n",
            "Epoch 00019: val_acc improved from 0.74867 to 0.75451, saving model to textClassification_cnn.hdf5\n",
            "Epoch 20/20\n",
            "11314/11314 [==============================] - 23s 2ms/step - loss: 0.3749 - acc: 0.8976 - val_loss: 0.8333 - val_acc: 0.7544\n",
            "\n",
            "Epoch 00020: val_acc did not improve from 0.75451\n"
          ],
          "name": "stdout"
        }
      ]
    },
    {
      "metadata": {
        "id": "QQx9F1Bpc4Rf",
        "colab_type": "code",
        "colab": {
          "base_uri": "https://localhost:8080/",
          "height": 1106
        },
        "outputId": "58547c62-edfe-47ed-cde9-8b2b5f12d957"
      },
      "cell_type": "code",
      "source": [
        "# list all data in history\n",
        "print(history.history.keys())\n",
        "plt.figure(figsize=(8, 6), dpi=100)\n",
        "plt.plot(history.history['acc'])\n",
        "plt.plot(history.history['val_acc'])\n",
        "plt.title('model accuracy')\n",
        "plt.ylabel('accuracy')\n",
        "plt.xlabel('epoch')\n",
        "plt.legend(['train', 'test'], loc='upper left')\n",
        "plt.savefig(os.path.join('model accuracy accuracy.png'))\n",
        "plt.show()\n",
        "# summarize history for loss\n",
        "plt.figure(figsize=(8, 6), dpi=100)\n",
        "plt.plot(history.history['loss'])\n",
        "plt.plot(history.history['val_loss'])\n",
        "plt.title('model loss')\n",
        "plt.ylabel('loss')\n",
        "plt.xlabel('epoch')\n",
        "plt.legend(['train', 'test'], loc='upper left')\n",
        "plt.savefig(os.path.join('model loss loss.png'))\n",
        "plt.show()"
      ],
      "execution_count": 86,
      "outputs": [
        {
          "output_type": "stream",
          "text": [
            "dict_keys(['val_loss', 'val_acc', 'loss', 'acc'])\n"
          ],
          "name": "stdout"
        },
        {
          "output_type": "display_data",
          "data": {
            "image/png": "[encoded data removed]",
            "text/plain": [
              "<matplotlib.figure.Figure at 0x7f65778fc7f0>"
            ]
          },
          "metadata": {
            "tags": []
          }
        },
        {
          "output_type": "display_data",
          "data": {
            "image/png": "[encoded data removed]",
            "text/plain": [
              "<matplotlib.figure.Figure at 0x7f65778f0588>"
            ]
          },
          "metadata": {
            "tags": []
          }
        }
      ]
    },
    {
      "metadata": {
        "id": "JAy2YjUeR7_P",
        "colab_type": "text"
      },
      "cell_type": "markdown",
      "source": [
        "# Model LSTM"
      ]
    },
    {
      "metadata": {
        "id": "1MdCIZoJR_pq",
        "colab_type": "code",
        "colab": {
          "base_uri": "https://localhost:8080/",
          "height": 399
        },
        "outputId": "6dd91ede-d81d-4281-fa73-1ce12a90c944"
      },
      "cell_type": "code",
      "source": [
        "sequence_input = Input(shape=(1000,), dtype='int32')\n",
        "embedded_sequences = embedding_layer(sequence_input)\n",
        "y = LSTM(128, return_sequences=True)(embedded_sequences)\n",
        "y = Dropout(0.5)(y)\n",
        "\n",
        "#y = LSTM(128, return_sequences=True)(y)\n",
        "#y = Dropout(0.5)(y)\n",
        "\n",
        "y = LSTM(128, return_sequences=False)(y)\n",
        "y = Dropout(0.3)(y)\n",
        "\n",
        "y = Dense(nb_classes, activation='softmax')(y)\n",
        "\n",
        "model_rnn = Model(sequence_input, y)\n",
        "#adam = Adam(lr=0.0001)\n",
        "model_rnn.compile(loss='categorical_crossentropy',\n",
        "              optimizer='rmsprop',\n",
        "              metrics=['acc'])\n",
        "\n",
        "print(\"Simplified recurrent neural network\")\n",
        "model_rnn.summary()\n",
        "cp_rnn=ModelCheckpoint('textClassification_rnn.hdf5',monitor='val_acc',verbose=1,save_best_only=True)"
      ],
      "execution_count": 89,
      "outputs": [
        {
          "output_type": "stream",
          "text": [
            "Simplified recurrent neural network\n",
            "_________________________________________________________________\n",
            "Layer (type)                 Output Shape              Param #   \n",
            "=================================================================\n",
            "input_19 (InputLayer)        (None, 1000)              0         \n",
            "_________________________________________________________________\n",
            "embedding_2 (Embedding)      (None, 1000, 100)         10623100  \n",
            "_________________________________________________________________\n",
            "lstm_5 (LSTM)                (None, 1000, 128)         117248    \n",
            "_________________________________________________________________\n",
            "dropout_12 (Dropout)         (None, 1000, 128)         0         \n",
            "_________________________________________________________________\n",
            "lstm_6 (LSTM)                (None, 128)               131584    \n",
            "_________________________________________________________________\n",
            "dropout_13 (Dropout)         (None, 128)               0         \n",
            "_________________________________________________________________\n",
            "dense_35 (Dense)             (None, 20)                2580      \n",
            "=================================================================\n",
            "Total params: 10,874,512\n",
            "Trainable params: 10,874,512\n",
            "Non-trainable params: 0\n",
            "_________________________________________________________________\n"
          ],
          "name": "stdout"
        }
      ]
    },
    {
      "metadata": {
        "id": "_X5XIUgJdD28",
        "colab_type": "code",
        "colab": {
          "base_uri": "https://localhost:8080/",
          "height": 69
        },
        "outputId": "4682256f-21d5-4a12-8336-42662f51bb38"
      },
      "cell_type": "code",
      "source": [
        "history_rnn=model_rnn.fit(data_train, y_train, validation_data=(data_test, y_test),epochs=8, batch_size=512,callbacks=[cp_rnn])"
      ],
      "execution_count": 0,
      "outputs": [
        {
          "output_type": "stream",
          "text": [
            "Train on 11314 samples, validate on 7532 samples\n",
            "Epoch 1/8\n",
            " 2560/11314 [=====>........................] - ETA: 2:06 - loss: 2.8305 - acc: 0.1613"
          ],
          "name": "stdout"
        }
      ]
    },
    {
      "metadata": {
        "id": "zeHcmTpjLM2Z",
        "colab_type": "code",
        "colab": {
          "base_uri": "https://localhost:8080/",
          "height": 1106
        },
        "outputId": "746afec2-66d3-487d-f1ba-b6a0983fac8a"
      },
      "cell_type": "code",
      "source": [
        "# list all data in history\n",
        "print(history_rnn.history.keys())\n",
        "plt.figure(figsize=(8, 6), dpi=100)\n",
        "plt.plot(history_rnn.history['acc'])\n",
        "plt.plot(history_rnn.history['val_acc'])\n",
        "plt.title('model accuracy')\n",
        "plt.ylabel('accuracy')\n",
        "plt.xlabel('epoch')\n",
        "plt.legend(['train', 'test'], loc='upper left')\n",
        "plt.savefig(os.path.join('model accuracy accuracy2.png'))\n",
        "plt.show()\n",
        "# summarize history for loss\n",
        "plt.figure(figsize=(8, 6), dpi=100)\n",
        "plt.plot(history_rnn.history['loss'])\n",
        "plt.plot(history_rnn.history['val_loss'])\n",
        "plt.title('model loss')\n",
        "plt.ylabel('loss')\n",
        "plt.xlabel('epoch')\n",
        "plt.legend(['train', 'test'], loc='upper left')\n",
        "plt.savefig(os.path.join('model loss loss2.png'))\n",
        "plt.show()"
      ],
      "execution_count": 38,
      "outputs": [
        {
          "output_type": "stream",
          "text": [
            "dict_keys(['val_loss', 'val_acc', 'loss', 'acc'])\n"
          ],
          "name": "stdout"
        },
        {
          "output_type": "display_data",
          "data": {
            "image/png": "[encoded data removed]",
            "text/plain": [
              "<matplotlib.figure.Figure at 0x7f65a40647b8>"
            ]
          },
          "metadata": {
            "tags": []
          }
        },
        {
          "output_type": "display_data",
          "data": {
            "image/png": "[encoded data removed]",
            "text/plain": [
              "<matplotlib.figure.Figure at 0x7f65aa9cab38>"
            ]
          },
          "metadata": {
            "tags": []
          }
        }
      ]
    },
    {
      "metadata": {
        "id": "9X51u8DVnvh5",
        "colab_type": "code",
        "colab": {}
      },
      "cell_type": "code",
      "source": [
        ""
      ],
      "execution_count": 0,
      "outputs": []
    }
  ]
}